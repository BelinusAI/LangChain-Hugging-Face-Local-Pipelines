{
 "cells": [
  {
   "cell_type": "code",
   "execution_count": 16,
   "id": "0f0dda16-03a9-4ea2-a457-b1d55e5b7833",
   "metadata": {},
   "outputs": [],
   "source": [
    "from langchain_community.llms.huggingface_pipeline import HuggingFacePipeline\n",
    "from transformers import AutoModelForCausalLM, AutoTokenizer, pipeline\n",
    "\n",
    "tokenizer = AutoTokenizer.from_pretrained(\"gpt2\", trust_remote_code=True)\n",
    "model = AutoModelForCausalLM.from_pretrained(\"gpt2\", trust_remote_code=True)\n",
    "\n",
    "pipe = pipeline(\"text-generation\", model=model, tokenizer=tokenizer, max_new_tokens=200, device_map=\"auto\")\n",
    "hf = HuggingFacePipeline(pipeline=pipe)"
   ]
  },
  {
   "cell_type": "markdown",
   "id": "75d34f54-3fc1-490d-a76c-416d5fe0e622",
   "metadata": {},
   "source": [
    "**Create Chain**  \n",
    "With the model loaded into memory, you can compose it with a prompt to form a chain."
   ]
  },
  {
   "cell_type": "code",
   "execution_count": 17,
   "id": "7e2646c2-0f57-43ff-af3b-2b0cd349b82f",
   "metadata": {},
   "outputs": [
    {
     "name": "stderr",
     "output_type": "stream",
     "text": [
      "Setting `pad_token_id` to `eos_token_id`:50256 for open-end generation.\n"
     ]
    },
    {
     "name": "stdout",
     "output_type": "stream",
     "text": [
      "Question: What is a bank?\n",
      "\n",
      "Answer: Let's think step by step. In the same way we are concerned with a bank, so it makes sense to think of a bank as a machine. We use one bank for the maintenance of the system, that is to say, we make the loan, and we also carry it out. But now one bank, the bank for us, is a sort of a sort of the whole body of the financial system itself. It is not, however, a machine, the machine which we used to work. We put our own machines into operation. But some people, the banks, put their own bank in operation and they all carry on the banks. They carry out these bank operations. In this way they make one bank the whole system of this society. And this banking system is one part of the whole system of this society. It comes from above all from above down to below. But what is it that drives the whole system of the whole society to be in a bank? We must look at this from the other side of\n"
     ]
    }
   ],
   "source": [
    "from langchain_core.prompts import PromptTemplate\n",
    "\n",
    "template = \"\"\"Question: {question}\n",
    "\n",
    "Answer: Let's think step by step.\"\"\"\n",
    "prompt = PromptTemplate.from_template(template)\n",
    "\n",
    "chain = prompt | hf\n",
    "\n",
    "question = \"What is a bank?\"\n",
    "\n",
    "print(chain.invoke({\"question\": question}))"
   ]
  },
  {
   "cell_type": "code",
   "execution_count": null,
   "id": "800a391d-d0a8-409d-a3dd-f15507a47b5d",
   "metadata": {},
   "outputs": [],
   "source": []
  }
 ],
 "metadata": {
  "kernelspec": {
   "display_name": "Python 3 (ipykernel)",
   "language": "python",
   "name": "python3"
  },
  "language_info": {
   "codemirror_mode": {
    "name": "ipython",
    "version": 3
   },
   "file_extension": ".py",
   "mimetype": "text/x-python",
   "name": "python",
   "nbconvert_exporter": "python",
   "pygments_lexer": "ipython3",
   "version": "3.10.9"
  }
 },
 "nbformat": 4,
 "nbformat_minor": 5
}
