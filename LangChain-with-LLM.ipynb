{
 "cells": [
  {
   "cell_type": "markdown",
   "id": "a92a52ad-43cd-4e03-99d2-c0bd3878f80c",
   "metadata": {},
   "source": [
    "# Building with LangChain\n",
    "Primero, importamos Ollama desde langchain_community.llms, que es una abstracción dentro de LangChain para trabajar con modelos de lenguaje  \n",
    "A continuación, creamos una instancia de Ollama especificando el modelo que queremos utilizar. En este caso, estamos inicializando llama2, que es una versión del modelo de lenguaje LLaMA"
   ]
  },
  {
   "cell_type": "code",
   "execution_count": 9,
   "id": "10b5654e-2fdb-4e8e-bd87-6ffa3aef99d1",
   "metadata": {},
   "outputs": [],
   "source": [
    "from langchain_community.llms import Ollama\n",
    "llm = Ollama(model=\"llama2\")"
   ]
  },
  {
   "cell_type": "markdown",
   "id": "d30fa241-80da-4731-b130-c7f5c47482c1",
   "metadata": {},
   "source": [
    "Una vez inicializado, el objeto llm puede ser utilizado para realizar inferencias, generar texto, o cualquier otra tarea compatible con el modelo LLaMA en el contexto de aplicaciones desarrolladas con LangChain."
   ]
  },
  {
   "cell_type": "code",
   "execution_count": 20,
   "id": "105ca8d6-b1b5-4ad4-ae7e-104c48763de5",
   "metadata": {},
   "outputs": [
    {
     "data": {
      "text/plain": [
       "'\\nBlockchain is a decentralized, digital ledger that records transactions and data in a secure and transparent manner. It is the underlying technology behind cryptocurrencies such as Bitcoin and Ethereum, but its potential uses go far beyond digital currency. Here are some key things to know about blockchain:\\n\\n1. Decentralized: Blockchain is a decentralized system, meaning that there is no central authority controlling it. Transactions are recorded on the blockchain through a network of computers, called nodes, that work together to validate and add new transactions to the ledger.\\n2. Distributed Ledger: A blockchain is a distributed ledger, meaning that it is stored on multiple computers across a network. This makes it more secure than a traditional centralized database, as there is no single point of failure.\\n3. Immutable: Once a transaction is recorded on the blockchain, it cannot be altered or deleted. This ensures the integrity and security of the data, as any attempts to manipulate the chain would be easily detectable.\\n4. Transparent: All transactions on the blockchain are publicly visible, allowing for complete transparency in the network. This promotes trust and accountability within the network.\\n5. Consensus: The network of nodes on a blockchain work together to validate new transactions and add them to the ledger. This is achieved through a consensus mechanism, such as proof-of-work or proof-of-stake, which ensures that all nodes agree on the validity of each transaction.\\n6. Cryptography: Blockchain relies heavily on cryptography to secure transactions and maintain privacy. Encryption techniques are used to protect the identity of users and prevent unauthorized access to the network.\\n7. Smart Contracts: Blockchain can also facilitate the execution of smart contracts, which are self-executing contracts with the terms of the agreement written directly into lines of code. These contracts can automatically enforce themselves without the need for intermediaries.\\n8. Supply Chain Management: Blockchain can be used to track and verify the origin, quality, and movement of goods throughout the supply chain. This can help to increase transparency, reduce fraud, and improve efficiency.\\n9. Identity Verification: Blockchain can be used to create secure digital identities for individuals, allowing them to control their personal information and prove their identity in a trustworthy manner.\\n10. Financial Services: Blockchain has the potential to disrupt traditional financial services by providing a secure and efficient means of transferring value without the need for intermediaries like banks.\\n\\nOverall, blockchain is a powerful technology with a wide range of potential applications beyond just digital currency. Its decentralized, distributed ledger architecture makes it an attractive solution for industries looking to increase transparency, security, and efficiency.'"
      ]
     },
     "execution_count": 20,
     "metadata": {},
     "output_type": "execute_result"
    }
   ],
   "source": [
    "llm.invoke(\"What is blockchain?\")"
   ]
  },
  {
   "cell_type": "markdown",
   "id": "dbbd162c-7396-4014-931d-2f5f8c52f098",
   "metadata": {},
   "source": [
    "Importamos ChatPromptTemplate y StrOutputParser desde el módulo langchain_core. Estos componentes son esenciales para la creación de prompts estructurados y para la interpretación de las respuestas del modelo de lenguaje  \n",
    "A continuación, definimos una plantilla de prompt utilizando ChatPromptTemplate. Esta plantilla se utiliza para generar prompts que se enviarán al modelo de lenguaje, asegurando consistencia y estructura en las interacciones"
   ]
  },
  {
   "cell_type": "code",
   "execution_count": 6,
   "id": "21d814dc-d32b-4478-b393-828a6fad1deb",
   "metadata": {},
   "outputs": [],
   "source": [
    "from langchain_core.prompts import ChatPromptTemplate\n",
    "from langchain_core.output_parsers import StrOutputParser\n",
    "\n",
    "prompt = ChatPromptTemplate.from_messages([\n",
    "    (\"system\", \"You are a world class technical documentation writer.\"),\n",
    "    (\"user\", \"{input}\")\n",
    "])\n",
    "\n",
    "output_parser = StrOutputParser()"
   ]
  },
  {
   "cell_type": "markdown",
   "id": "518a7c7b-823b-4a58-87a2-49e52c852ba6",
   "metadata": {},
   "source": [
    "Se encadenan varios componentes juntos para formar una única secuencia de procesamiento en LangChain. Esta cadena combina la creación de prompts, el modelo de lenguaje y el análisis de la salida en un flujo de trabajo coherente y eficiente.  \n",
    "El operador | es utilizado aquí para conectar los componentes de manera funcional, pasando la salida de uno como entrada al siguiente. Este enfoque facilita la modularidad y la reusabilidad de los componentes, permitiendo:\n",
    "\n",
    "Mantenimiento Sencillo: Cada componente puede ser actualizado o reemplazado independientemente sin afectar el resto de la cadena.\n",
    "Flexibilidad: Se pueden añadir o remover componentes fácilmente para experimentar con diferentes configuraciones o para ajustar el comportamiento del sistema."
   ]
  },
  {
   "cell_type": "code",
   "execution_count": 10,
   "id": "15686039-000c-40cd-a83d-290fa8b1477e",
   "metadata": {},
   "outputs": [],
   "source": [
    "chain = prompt | llm | output_parser"
   ]
  },
  {
   "cell_type": "code",
   "execution_count": 11,
   "id": "fbaa4710-5144-4441-ad48-5b986c6b5a54",
   "metadata": {},
   "outputs": [
    {
     "data": {
      "text/plain": [
       "\"\\nAs a world-class technical documentation writer, I'm here to explain Blockchain in a clear and concise manner! 🚀\\n\\nBlockchain is a decentralized digital ledger that records transactions across multiple computers within a network. It allows for secure, transparent, and tamper-proof data storage and sharing, without the need for intermediaries like banks or governments.\\n\\nThink of it as a digital canvas where transactions are painted with unique codes, creating an unalterable record of events. Each transaction is verified by a network of computers working together, making it nearly impossible to alter or falsify the data. This distributed consensus mechanism is what gives Blockchain its immense security and reliability.\\n\\nThe most well-known application of Blockchain is Bitcoin, a decentralized digital currency that enables peer-to-peer transactions without the need for traditional financial intermediaries like banks. However, Blockchain's potential uses go far beyond just currency. It can be applied to various industries such as supply chain management, healthcare records, voting systems, and more.\\n\\nSome key features of Blockchain include:\\n\\n1. Decentralization: Blockchain operates on a decentralized network, meaning there is no central authority controlling it. Transactions are recorded on multiple computers simultaneously, making it difficult for any one entity to manipulate the data.\\n2. Immutable: Once a transaction is added to the Blockchain, it cannot be altered or deleted. This ensures that the data stored on the chain is tamper-proof and unchanging.\\n3. Consensus mechanism: The network of computers working together verifies each transaction through complex mathematical algorithms, making sure that all parties agree on the validity of the data.\\n4. Pseudonymity: Blockchain transactions allow for pseudonymous interactions, enabling privacy and security in financial dealings.\\n5. Smart contracts: Blockchain can facilitate the execution of smart contracts, which are self-executing contracts with predetermined conditions that automate the fulfillment of an agreement.\\n\\nIn summary, Blockchain is a decentralized digital ledger that provides a secure and transparent platform for transactions across various industries. Its unique features, such as immutability, consensus mechanism, pseudonymity, and smart contracts, make it an exciting area of innovation with vast potential to transform the way we conduct business and interact with each other. 🚀\""
      ]
     },
     "execution_count": 11,
     "metadata": {},
     "output_type": "execute_result"
    }
   ],
   "source": [
    "chain.invoke({\"input\": \"What is blockchain?\"})"
   ]
  },
  {
   "cell_type": "markdown",
   "id": "37ea49f3-25ef-4af2-b734-c359dc511073",
   "metadata": {},
   "source": [
    "# Retrieval Chain\n",
    "Primero, importamos WebBaseLoader del módulo langchain_community.document_loaders. Este componente está diseñado para facilitar la carga de documentos desde URLs específicas"
   ]
  },
  {
   "cell_type": "code",
   "execution_count": 21,
   "id": "f22a91e9-38dd-41d1-8e77-5bb98ae37a91",
   "metadata": {},
   "outputs": [],
   "source": [
    "from langchain_community.document_loaders import WebBaseLoader\n",
    "loader = WebBaseLoader(\"https://www.bancolombia.com/centro-de-ayuda/preguntas-frecuentes/como-funciona-la-billetera-digital-bpay#:~:text=Es%20un%20sistema%20electr%C3%B3nico%20que,D%C3%A9bito%2C%20y%20la%20sincronizaci%C3%B3n%20con\")\n",
    "\n",
    "docs = loader.load()"
   ]
  },
  {
   "cell_type": "markdown",
   "id": "80a79c80-f78b-4312-ac11-611049034f27",
   "metadata": {},
   "source": [
    "Inicializamos embeddings basados en el modelo LLaMA (Language Model Architecture for Many Applications) usando la biblioteca LangChain. Los embeddings son representaciones vectoriales de texto que capturan aspectos semánticos y pueden ser utilizados en una variedad de tareas de procesamiento de lenguaje natural."
   ]
  },
  {
   "cell_type": "code",
   "execution_count": 22,
   "id": "2bde2fc1-bdba-4e64-93d1-25253af46fac",
   "metadata": {},
   "outputs": [],
   "source": [
    "from langchain_community.embeddings import OllamaEmbeddings\n",
    "\n",
    "embeddings = OllamaEmbeddings()"
   ]
  },
  {
   "cell_type": "markdown",
   "id": "c76aa5ad-e902-495b-bf18-9b27fb60a6b9",
   "metadata": {},
   "source": [
    "Utilizamos RecursiveCharacterTextSplitter, que es una herramienta de LangChain diseñada para dividir textos en partes más pequeñas basadas en caracteres, lo cual es útil para procesar documentos grandes o para mejorar la granularidad en tareas de procesamiento de texto  \n",
    "FAISS se utiliza para crear una base de datos de vectores que permite búsquedas rápidas y eficientes. Inicializamos FAISS con los documentos divididos y los embeddings generados por el modelo LLaMA"
   ]
  },
  {
   "cell_type": "code",
   "execution_count": 23,
   "id": "d6033578-c00d-4020-a055-48abd00471e1",
   "metadata": {},
   "outputs": [],
   "source": [
    "from langchain_community.vectorstores import FAISS\n",
    "from langchain_text_splitters import RecursiveCharacterTextSplitter\n",
    "\n",
    "text_splitter = RecursiveCharacterTextSplitter()\n",
    "documents = text_splitter.split_documents(docs)\n",
    "vector = FAISS.from_documents(documents, embeddings)"
   ]
  },
  {
   "cell_type": "markdown",
   "id": "9b30bba7-7e65-4bad-b6bb-a0cb53e332a4",
   "metadata": {},
   "source": [
    "Configuramos un prompt específico que será usado para estructurar la entrada al modelo de lenguaje. Este prompt incluye tanto el contexto como la pregunta específica del usuario"
   ]
  },
  {
   "cell_type": "code",
   "execution_count": 27,
   "id": "1467f5b7-653c-45d4-9d8a-99980cbbd792",
   "metadata": {},
   "outputs": [],
   "source": [
    "from langchain.chains.combine_documents import create_stuff_documents_chain\n",
    "\n",
    "prompt = ChatPromptTemplate.from_template(\"\"\"Responde la siguiente pregunta en español basado en el contexto proporcionado:\n",
    "\n",
    "<context>\n",
    "{context}\n",
    "</context>\n",
    "\n",
    "Pregunta: {input}\"\"\")\n",
    "\n",
    "document_chain = create_stuff_documents_chain(llm, prompt)"
   ]
  },
  {
   "cell_type": "markdown",
   "id": "8ea327cb-efb1-4de3-8c09-7b8ca984d7af",
   "metadata": {},
   "source": [
    "Primero, vamos a demostrar cómo ejecutar la cadena de documentos que hemos configurado previamente para responder preguntas específicas utilizando un contexto detallado. Esta funcionalidad es esencial para aplicaciones donde la precisión de las respuestas depende fuertemente del contexto proporcionado."
   ]
  },
  {
   "cell_type": "code",
   "execution_count": 28,
   "id": "8b80569d-033e-4920-8411-bf8976574bbd",
   "metadata": {},
   "outputs": [
    {
     "data": {
      "text/plain": [
       "'\\nCon Bpay, podrás realizar diversas transacciones financieras de forma virtual y sin el uso de tarjetas de crédito o débito. Algunas de las posibilidades que tienes son:\\n\\n* Hacer pagos a empresas o particulares de manera rápida y segura.\\n* Realizar transferencias de dinero a cuentas bancarias de otros bancos o a personas específicas.\\n* Leer tu saldo y ver la balanza de tus transacciones en tiempo real.\\n* Recargar tu saldo en efectivo desde otros bancos o cajeros automáticos.\\n* Retirar dinero de tus cuentas bancarias en otros bancos o cajeros automáticos.\\n* Sincronizar tus transacciones con Bancolombia, permitiéndote una mayor visibilidad y control sobre tus finanzas.'"
      ]
     },
     "execution_count": 28,
     "metadata": {},
     "output_type": "execute_result"
    }
   ],
   "source": [
    "from langchain_core.documents import Document\n",
    "\n",
    "document_chain.invoke({\n",
    "    \"input\": \"Qué  puedo hacer con Bpay?\",\n",
    "    \"context\": [Document(page_content=\"Es un sistema electrónico que te permite hacer transacciones financieras de forma virtual, como pagos, transferencias, lectura con QR, consulta de saldo, recargas en efectivo o desde otros bancos, retiros en corresponsales y cajeros, sin contar con el uso de Tarjetas de Crédito o Débito, y la sincronización con Bancolombia A la mano\")]\n",
    "})"
   ]
  },
  {
   "cell_type": "markdown",
   "id": "595482b8-f60c-4cfa-82d2-c6c449c4c11d",
   "metadata": {},
   "source": [
    "Ahora configuramos una cadena de recuperación de documentos, que combina las capacidades de búsqueda de documentos con la generación de respuestas basadas en el contexto recuperado. Esta funcionalidad es crucial para sistemas de información y Q&A donde la precisión depende de la habilidad para encontrar y utilizar el contexto más relevante"
   ]
  },
  {
   "cell_type": "code",
   "execution_count": 29,
   "id": "dd2cfa65-10ba-4370-9135-f0c2e67a4f99",
   "metadata": {},
   "outputs": [],
   "source": [
    "from langchain.chains import create_retrieval_chain\n",
    "\n",
    "retriever = vector.as_retriever()\n",
    "retrieval_chain = create_retrieval_chain(retriever, document_chain)"
   ]
  },
  {
   "cell_type": "code",
   "execution_count": 30,
   "id": "e9158700-bd9a-485c-825a-472b00907f08",
   "metadata": {},
   "outputs": [
    {
     "name": "stdout",
     "output_type": "stream",
     "text": [
      "BPay es una plataforma digital que permite a los usuarios realizar pagos y transferencias de dinero de forma segura, rápida y conveniente. Es una billetera digital que se puede utilizar para realizar pagos en línea o en tienda, y también se puede usar para enviar dinero a personas o empresas.\n",
      "\n",
      "BPay es una plataforma que ofrece una variedad de servicios, incluyendo:\n",
      "\n",
      "* Pagos en línea o en tienda: los usuarios pueden realizar pagos en línea o en tienda utilizando su tarjeta de crédito o débito asociada con su cuenta de BPay.\n",
      "* Transferencias de dinero: los usuarios pueden enviar dinero a personas o empresas utilizando la función de transferencia de BPay.\n",
      "* Pagos en tiempo real: los usuarios pueden realizar pagos en tiempo real utilizando la función de pagos en tiempo real de BPay.\n",
      "* Administración de cuentas: los usuarios pueden administrar sus cuentas y ver su historial de pagos y transferencias.\n",
      "\n",
      "BPay es una plataforma segura y confiable, que utiliza tecnología de cifrado avanzada para proteger la información de los usuarios y garantizar la seguridad de los pagos y transferencias. Además, BPay ofrece una variedad de opciones de seguridad, como autenticación de dos factores y verificación de identidad, para asegurar que solo las personas autorizadas puedan acceder a sus cuentas.\n",
      "\n",
      "En resumen, BPay es una plataforma digital que permite a los usuarios realizar pagos y transferencias de dinero de forma segura, rápida y conveniente, utilizando su tarjeta de crédito o débito asociada con su cuenta de BPay.\n"
     ]
    }
   ],
   "source": [
    "response = retrieval_chain.invoke({\"input\": \"Qué es Bpay?\"})\n",
    "print(response[\"answer\"])"
   ]
  },
  {
   "cell_type": "markdown",
   "id": "17d51c52-d393-48b1-9ea6-8354c7505a0f",
   "metadata": {},
   "source": [
    "# Conversation Retrieval Chain\n",
    "La cadena que hemos creado hasta ahora solo puede responder preguntas únicas. Uno de los principales tipos de aplicaciones LLM son los chatbots.Para esto vamos configurar una cadena de recuperación que toma en cuenta el historial de la conversación para buscar información relevante. Esta funcionalidad es especialmente útil en aplicaciones de diálogo donde la coherencia y relevancia del contexto a lo largo del tiempo son cruciales."
   ]
  },
  {
   "cell_type": "code",
   "execution_count": 52,
   "id": "14b49d72-9c0b-4e30-88fe-97d440d9d254",
   "metadata": {},
   "outputs": [],
   "source": [
    "from langchain.chains import create_history_aware_retriever\n",
    "from langchain_core.prompts import MessagesPlaceholder\n",
    "\n",
    "# First we need a prompt that we can pass into an LLM to generate this search query\n",
    "\n",
    "prompt = ChatPromptTemplate.from_messages([\n",
    "    MessagesPlaceholder(variable_name=\"chat_history\"),\n",
    "    (\"user\", \"{input}\"),\n",
    "    (\"user\", \"Dada la conversación anterior, genere una search query para buscar información relevante para la conversación en español.\")\n",
    "])\n",
    "retriever_chain = create_history_aware_retriever(llm, retriever, prompt)"
   ]
  },
  {
   "cell_type": "markdown",
   "id": "6d283d0a-93bb-4fdd-aca1-50d67d942548",
   "metadata": {},
   "source": [
    "Configuramos el historial de la conversación utilizando instancias de HumanMessage y AIMessage, que representan mensajes del usuario y respuestas de la IA, respectivamente. Esto ayuda a preservar el flujo y contexto de la conversación"
   ]
  },
  {
   "cell_type": "code",
   "execution_count": 53,
   "id": "f7c081b3-ab2b-4b63-b17b-9c2f2d289bee",
   "metadata": {
    "scrolled": true
   },
   "outputs": [
    {
     "data": {
      "text/plain": [
       "[Document(page_content='¿Cómo funciona la Billetera digital (BPay)?\\n\\n\\n\\n\\n\\n\\n\\n\\n\\n\\n\\n\\n\\n\\n\\n\\n\\n{}\\n\\n\\n\\n\\n\\n\\n\\n\\n\\nZ7_OHHGG4G0P0FKE06MQ68SML15L0\\n\\n\\n\\n\\n\\n\\n\\n\\n\\n\\n\\n\\n\\n\\n\\n\\n\\n\\n\\nPersonas\\n\\n\\n\\nNegocios\\n\\n\\n\\nCorporativos\\n\\n\\n\\nNegocios especializados \\n\\n\\n\\n\\n\\nNegocios en Colombia\\n\\n\\nBanca de Inversión\\n                Bancolombia\\n\\n\\n\\nFiduciaria Bancolombia\\n\\n\\n\\nLeasing Bancolombia\\n\\n\\n\\nRenting Colombia\\n\\n\\n\\nValores Bancolombia\\n\\n\\n\\nFactoring Bancolombia\\n\\n\\n\\nAsset Management\\n\\n\\n\\n\\n\\nSufi\\n\\n\\n\\n\\n\\n\\n\\n\\n\\nEntidades en el exterior\\n\\n\\nBancolombia Miami (USA)\\n\\n\\n\\nValores Banistmo\\n\\n\\n\\nSucursal Panamá\\n\\n\\n\\nBancolombia Panamá\\n\\n\\n\\nBancolombia Puerto\\n                Rico\\n\\n\\n\\nBanistmo\\n\\n\\n\\nBanco Agrícola\\n\\n\\n\\nBAM (Banco Agromercantil\\n                de\\n                Guatemala)\\n\\n\\n\\n\\n\\n\\n\\n\\n\\n\\n\\n\\n\\n\\nTu360\\n\\n\\n\\nBlog\\n\\n\\n\\n\\n\\n\\n\\nTransparencia\\n\\n\\nConsumidor\\n\\n\\n\\n\\n\\n\\n\\n\\n\\n\\n\\n\\n\\n\\n\\n\\n\\n\\n\\n\\nInicio\\n\\n\\n\\nNecesidades\\n\\n\\n\\n\\n\\nNecesidades\\n\\n\\n\\n                                                        Certificado Bancario\\n                                                          \\n\\n\\n\\n                                                            Soluciones de movilidad privada\\n                                                          \\n\\n\\n\\n                                                              Soluciones de vivienda \\n                                                          \\n\\n\\n\\n                                                              Soluciones de pago\\n                                                          \\n\\n\\n\\n                                                           Soluciones de movilidad pública\\n                                                          \\n\\n\\n\\n\\n\\nBanco para todos\\n\\n\\n\\n                                                            Para los niños                                                   \\n                                                          \\n\\n\\n\\n                                                            Para los jóvenes                                                \\n                                                          \\n\\n\\n\\n                                                            Para la familia \\n                                                          \\n\\n\\n\\n\\n\\n\\n\\n\\n\\n\\nColombianos en el exterior\\n\\n\\n\\nCliente Preferencial\\n\\n\\nBanca Privada\\n\\n\\nCliente Independiente\\n\\n\\n\\n\\n\\n\\n\\nOfertas y beneficios\\n\\n\\n\\nDisfruta opciones hechas para ti por ser nuestro cliente\\n\\n\\n\\n\\n\\n\\n\\nSolicitud de turno en sucursales\\n\\n\\n\\nAhorra tiempo, adelanta tu gestión desde donde estés\\n\\n\\n\\n\\n\\n\\n\\nTrámites Digitales\\n\\n\\n\\nEncuentra lo que quieres cuando quieras, aquí te ayudamos\\n\\n\\n\\n\\n\\n\\n\\n\\n\\n\\n\\n\\n\\n\\nProductos y Servicios\\n\\n\\n\\n\\n\\nProductos y Servicios\\n\\n\\nCuentas\\n\\n\\nTarjetas Débito\\n\\n\\nTarjetas de Crédito\\n\\n\\nCréditos\\n\\n\\n\\n\\n\\n\\n\\n\\n\\nSeguros y asistencias\\n\\n\\nInversiones\\n\\n\\nGiros\\n\\n\\nBancolombia A la Mano\\n\\n\\n\\n\\n\\n\\n\\n\\n\\nLeasing\\n\\n\\nPagos\\n\\n\\nCompra y venta de dólares\\n                                                    \\n\\n\\nVenta de usados\\n\\n\\nRenta de vehículos\\n\\n\\n\\n\\n\\n\\nCanales para tu servicio\\n\\n\\n\\n                                                        Sucursal Virtual Personas\\n                                                      \\n\\n\\n\\n                                                        Solicitar productos\\n                                                      \\n\\n\\n\\n                                                        Bancolombia App\\n                                                      \\n\\n\\n\\n                                                        Corresponsal Bancario\\n                                                      \\n\\n\\n\\n                                                        Cajero Multifuncional\\n                                                      \\n\\n\\n\\n\\n\\n\\n\\n\\n\\n\\n                                                        Sucursal telefónica\\n                                                      \\n\\n\\n\\n                                                        Multipagos PSE\\n                                                      \\n\\n\\n\\n                                                        Sucursal Física', metadata={'source': 'https://www.bancolombia.com/centro-de-ayuda/preguntas-frecuentes/como-funciona-la-billetera-digital-bpay#:~:text=Es%20un%20sistema%20electr%C3%B3nico%20que,D%C3%A9bito%2C%20y%20la%20sincronizaci%C3%B3n%20con', 'title': '¿Cómo funciona la Billetera digital (BPay)?', 'description': 'Con la Billetera digital Bpay puedes pagar, transferir y recargar efectivo de tu A la mano. Aquí te mostramos qué es y cómo funciona esta billetera', 'language': 'en'}),\n",
       " Document(page_content='Z7_OHHGG4G0P0FKE06MQ68SML15L7\\n\\n\\n\\n\\n\\n\\n\\n\\n\\n\\n\\n\\n\\n\\n\\n\\n¿Cómo funciona la Billetera digital (BPay)?\\n\\n\\nFebrero 5, 2024\\n\\n\\n\\n\\n\\n\\n\\nLink copiado en porta papeles\\n\\n\\n\\n\\n\\n\\n\\n\\n\\n\\n\\n\\n\\nEs un sistema electrónico que te permite hacer transacciones financieras de forma virtual, como pagos, transferencias, lectura con QR, consulta de saldo, recargas en efectivo o desde otros bancos, retiros en corresponsales y cajeros, sin contar con el uso de Tarjetas de Crédito o Débito, y la\\xa0sincronización con Bancolombia A la mano.\\nEstas billeteras pueden vincularse a cuentas bancarias o a otras fuentes de fondos, así como a experiencias o aplicaciones de otros terceros. El nombre de la billetera puede variar como: PlazaMall Wallet, PuntosPay, MonetPay y MaaSPay.\\nDesactiva los terceros de tu cuenta sincronizada en la Billetera digital (BPay)\\nPuedes desactivar la cuenta que vinculaste en la plataforma de terceros, llamando a la\\xa0Sucursal Telefónica, y al cabo de 3 horas vincular la nueva cuenta que quieras enlazar.\\nTarifas del servicio BPay\\n\\n\\nRetiro en Corresponsal Bancario: $2.190.\\n\\n\\nConsulta de movimientos en Sucursal Telefónica con asesor: $4.590 + IVA.\\n\\n\\nConsultar movimientos en servicios virtuales: $4.590 + IVA.\\n\\n\\nConsultar saldo en audio respuesta: $2.290 + IVA.\\n\\n\\nConsultar tu saldo en Sucursal Telefónica con asesor: $4.590 + IVA.\\n\\n\\nConsultar saldo de servicios virtuales: $4.590 + IVA.\\n\\n\\nConsignación en cajeros: 10 gratis, a partir de la 11 tiene un costo de $5.490 + IVA.\\n\\n\\nConsignación en corresponsales: 40 gratis, a partir de la 41 el precio es de $7.690 + IVA.\\n\\n\\nConsignación en Sucursal Física, desde la primera $11.990 + IVA.\\n\\n\\nTen presente que las tarifas que cobre el tercero no son administradas por Bancolombia.\\nTopes de transacciones para depósitos de bajo monto\\n\\n\\nDiario: $2’700.000 salidas de dinero.\\n\\n\\nMensual: $8’927.726. Recarga de dinero.\\n\\n\\n\\n\\n\\n\\n\\n\\n \\n\\n\\nZ7_OHHGG4G0P0FKE06MQ68SML15D4\\n\\n\\n\\n\\n\\n\\n\\n\\n\\n\\n\\n\\n\\n\\n\\n\\n\\n\\nCalificacionPreguntasFaqs\\n\\n\\n\\n\\n\\n\\n\\n\\n\\n\\n\\n \\n\\n\\nZ7_OHHGG4G0P0FKE06MQ68SML15D1\\n\\n\\n\\n\\n\\n\\n\\n\\n\\n\\n\\n\\n\\n\\n\\n\\n\\n\\nsearch\\n\\n\\n\\n\\n\\n\\n\\n\\n\\nPreguntas relacionadas\\n\\n\\n\\n\\n\\n\\n\\n\\n\\n\\n\\n\\n\\n\\n\\n\\n\\n\\n\\n\\n\\n\\n\\n\\n\\n\\n\\n\\n\\n\\n\\n\\n\\n\\n\\n\\n\\n\\n\\n\\n\\n\\n\\n\\n\\n\\n\\n\\n\\n\\n\\n\\n\\n\\n \\n\\n\\n\\n\\nZ7_OHHGG4G0P0FKE06MQ68SML15D7\\n\\n\\n\\n\\n\\n\\n\\n\\n\\n\\n\\n\\n\\n\\n\\n\\n                  Contáctanos\\n                \\n\\nPara resolver inquietudes adicionales o recibir ayuda personalizada.\\n\\n\\n\\n\\n\\n\\n\\n\\n\\n\\n\\nLlámanos\\n\\n\\n\\n\\n\\n\\n\\n\\n\\n\\n\\n\\nTe llamamos\\n\\n\\n\\n\\n\\n\\n\\n\\n\\n\\n\\n\\nVísitanos\\n\\n\\n\\n\\n\\n\\n\\n\\n\\n\\n\\n\\nChat\\n\\n\\n\\n\\n\\n\\n\\n\\n\\n\\n\\n\\n \\n\\n\\nZ7_OHHGG4G0P0FKE06MQ68SML15T4\\n\\n\\n\\n\\n\\n\\n\\n\\n\\n\\n\\n\\n\\n\\n\\n\\n\\n\\n\\n\\n\\n\\n\\n \\n\\n\\nZ7_OHHGG4G0P0FKE06MQ68SML15T6\\n\\n\\n\\n\\n\\n\\n\\n\\n\\n\\n\\n\\n\\n\\n \\n \\n\\n\\n\\n\\n\\n\\n\\n Deferred Modules \\n\\n\\n\\n\\n${title}${badge}\\n\\n\\n\\n${loading}\\n\\n\\n\\n\\n\\n\\n\\n\\n Deferred Modules', metadata={'source': 'https://www.bancolombia.com/centro-de-ayuda/preguntas-frecuentes/como-funciona-la-billetera-digital-bpay#:~:text=Es%20un%20sistema%20electr%C3%B3nico%20que,D%C3%A9bito%2C%20y%20la%20sincronizaci%C3%B3n%20con', 'title': '¿Cómo funciona la Billetera digital (BPay)?', 'description': 'Con la Billetera digital Bpay puedes pagar, transferir y recargar efectivo de tu A la mano. Aquí te mostramos qué es y cómo funciona esta billetera', 'language': 'en'}),\n",
       " Document(page_content='Sucursal Física\\n                                                      \\n\\n\\n\\n                                                        Cajero Automático\\n                                                      \\n\\n\\n\\n\\n\\n\\n\\nConoce otros canales\\n\\n\\n\\n\\n\\n\\n\\n\\n\\nEducación Financiera\\n\\n\\n\\n\\n\\n\\n\\n\\n\\n\\n\\n\\nTrámites digitales\\n\\n\\n\\n\\n\\nSucursal Virtual Personas\\n\\nSucursal Virtual Personas\\nSucursal Virtual Pymes\\nSucursal Virtual Empresas\\nPagos PSE\\nVer más\\n\\n\\nEntrar\\n\\n\\n\\n\\n\\n\\n\\n\\n\\n\\n\\n\\n\\n\\n\\n\\n\\n\\n\\n\\n\\n\\n\\n\\n\\n\\n\\n\\n\\n\\nSucursal Virtual Personas\\n\\nSucursal Virtual Personas\\nSucursal Virtual Pymes\\nSucursal Virtual Empresas\\nPagos PSE\\nVer más\\n\\n\\n\\nEntrar\\n\\n\\nTramites Digitales\\n\\n\\n\\n\\nPersonas\\n\\n\\n\\nNecesidades\\n\\n\\nCertificado Bancario\\n\\n\\n\\nSoluciones de movilidad privada\\n\\n\\n\\nSoluciones de vivienda\\n\\n\\n\\nSoluciones de pago\\n\\n\\n\\nSoluciones de movilidad pública\\n\\n\\n\\nPara los niños\\n\\n\\n\\nPara los jóvenes\\n\\n\\n\\nPara la familia\\n\\n\\n\\nColombianos en el exterior\\n\\n\\n\\nCliente Preferencial\\n\\n\\n\\nBanca Privada\\n\\n\\n\\nCliente Independiente\\n\\n\\nOfertas y beneficios \\n\\n\\n\\nSolicitud de turno en sucursales\\n\\n\\n\\nTu360\\n\\n\\n\\n\\n\\n\\n\\nProductos y Servicios\\n\\n\\nCuentas\\n\\n\\n\\nTarjetas Débito\\n\\n\\n\\nTarjetas de Crédito\\n\\n\\n\\nCréditos\\n\\n\\n\\n\\nSeguros y asistencias\\n\\n\\n\\nInversiones\\n\\n\\n\\nGiros\\n\\n\\nBancolombia A la Mano\\n\\n\\n\\nLeasing\\n\\n\\nPagos\\n\\n\\n\\nCompra y venta de dólares\\n\\n\\n\\nVenta de usados\\n\\n\\n\\nRenta de vehículos\\n\\n\\n\\nConoce nuestros canales\\n\\n\\n\\nSucursal Virtual Personas\\n\\n\\n\\nSolicitar productos\\n\\n\\n\\nBancolombia App\\n\\n\\n\\nCorresponsal Bancario\\n\\n\\n\\nSucursal Telefónica\\n\\n\\n\\nMultipagos PSE\\n\\n\\n\\nSucursal Física\\n\\n\\n\\nCajero Automático\\n\\n\\n\\nCajero Multifuncional\\n\\n\\n\\n\\n\\n\\n\\nEducación Financiera\\n\\n\\n\\n\\n\\n\\nNegocios\\n\\n\\n\\nInicio\\n\\n\\nActualízate\\n\\n\\nProductos Financieros\\n\\n\\nHerramientas\\n\\n\\nAliados\\n\\n\\nFormación\\n\\n\\nSocial Selling\\n\\n\\nIncoterms\\n\\n\\n\\n\\nSectores\\n\\n\\nAgroindustria\\n\\n\\nComercio\\n\\n\\n\\n\\nComercio Internacional\\n\\n\\n\\n\\n\\nCorporativos \\n\\n\\nCorporativos\\n\\n\\nTransacciones\\n\\n\\n\\n\\n\\nEmpieza tu negocio\\n\\n\\n\\nNecesidades PYMES\\n\\n\\nSoluciones de financiación\\n\\n\\n\\nPagar y recaudar\\n\\n\\n\\nInversión de liquidez\\n\\n\\n\\n\\n\\nCobertura de riesgos\\n\\n\\n\\nEstructuración de negocios\\n\\n\\n\\n\\n\\nAgroindustrias\\n\\n\\n\\nContratistas\\n\\n\\n\\nComercio\\n\\n\\n\\nColegios y universidades\\n\\n\\n\\nBeneficios para tu negocio y tus empleados\\n\\n\\n\\n\\n\\n\\n\\nNecesidades Empresas\\n\\n\\nSoluciones de financiación\\n\\n\\n\\nAdministración de liquidez\\n\\n\\n\\nGestión de tesorería\\n\\n\\n\\nCobertura de riesgos\\n\\n\\n\\nEstructuración de negocios\\n\\n\\n\\nBienestar para tus empleados\\n\\n\\n\\n\\n\\nExperiencia sectorial\\n\\n\\n\\n\\n\\n\\n\\nNecesidades Gobierno\\n\\n\\nSoluciones de financiación\\n\\n\\n\\nAdministración de liquidez\\n\\n\\n\\nGestión de tesorería\\n\\n\\n\\nCobertura de riesgos\\n\\n\\n\\nEstructuración de negocios\\n\\n\\n\\nBienestar para tus empleados\\n\\n\\n\\n\\n\\nExperiencia sectorial\\n\\n\\n\\n\\n\\n\\n\\nProductos y Servicios\\n\\n\\nCréditos\\n\\n\\n\\nTarjetas de Crédito\\n\\n\\n\\nInversiones\\n\\n\\n\\nCuentas de Depósito\\n\\n\\n\\nCash Management\\n\\n\\n\\nDerivados\\n\\n\\n\\nSeguros\\n\\n\\n\\nNegocios Fiduciarios\\n\\n\\n\\nBanca de inversión\\n\\n\\n\\nLeasing\\n\\n\\n\\nFactoring\\n\\n\\n\\nRenting\\n\\n\\n\\nOperaciones en Moneda Extranjera\\n\\n\\n\\nSer Corresponsal Bancario\\n\\n\\n\\nConoce nuestros canales y administra tus productos en\\n                                        forma ágil y segura\\n\\n\\n\\nSucursal Virtual Empresa\\n\\n\\n\\nLínea Empresas\\n\\n\\n\\nInmobiliaria y Vivienda\\n\\n\\n\\n\\n\\n\\n\\nCapital Inteligente\\n\\n\\n\\n\\n\\nNegocios Especializados\\n\\n\\n\\nBanca de Inversión Bancolombia\\n\\n\\n\\nFiduciaría Bancolombia\\n\\n\\n\\nLeasing Bancolombia\\n\\n\\n\\nRenting Colombia\\n\\n\\n\\nValores Bancolombia\\n\\n\\n\\nFactoring Bancolombia\\n\\n\\n\\nBancolombia Asset Management\\n\\n\\n\\n\\n\\nSufi\\n\\n\\n\\n\\n\\nValores Banistmo\\n\\n\\n\\nSucursal Panamá\\n\\n\\n\\nBancolombia Panamá\\n\\n\\n\\n\\nBancolombia Puerto Rico\\n\\n\\n\\nBanistmo\\n\\n\\n\\nBanco Agrícola\\n\\n\\n\\nBAM (Banco Agromercantil de Guatemala)\\n\\n\\n\\n\\n\\nTu360\\n\\n\\nBlog\\n\\n\\nTransparencia\\n\\n\\nConsumidor\\n\\n\\n\\n\\n\\n\\n\\n\\n\\n \\n\\n\\nZ7_OHHGG4G0P0FKE06MQ68SML15L2\\n\\n\\n\\n\\n\\n\\n\\n\\n\\n\\n\\n\\n\\n\\n\\n\\nCentro de ayuda\\n\\n\\n\\n\\n\\nPreguntas Frecuentes\\n\\n\\n\\n\\n\\nZ6_OHHGG4G0P0FKE06MQ68SML15P3\\n\\n\\n\\n\\n\\n\\n\\n \\n\\n\\nZ7_OHHGG4G0P0FKE06MQ68SML15L1\\n\\n\\n\\n\\n\\n\\n\\n\\n\\n\\n\\n\\n\\n \\n\\n\\n\\n\\nZ7_OHHGG4G0P0FKE06MQ68SML15L7\\n\\n\\n\\n\\n\\n\\n\\n\\n\\n\\n\\n\\n\\n\\n\\n\\n¿Cómo funciona la Billetera digital (BPay)?\\n\\n\\nFebrero 5, 2024\\n\\n\\n\\n\\n\\n\\n\\nLink copiado en porta papeles', metadata={'source': 'https://www.bancolombia.com/centro-de-ayuda/preguntas-frecuentes/como-funciona-la-billetera-digital-bpay#:~:text=Es%20un%20sistema%20electr%C3%B3nico%20que,D%C3%A9bito%2C%20y%20la%20sincronizaci%C3%B3n%20con', 'title': '¿Cómo funciona la Billetera digital (BPay)?', 'description': 'Con la Billetera digital Bpay puedes pagar, transferir y recargar efectivo de tu A la mano. Aquí te mostramos qué es y cómo funciona esta billetera', 'language': 'en'})]"
      ]
     },
     "execution_count": 53,
     "metadata": {},
     "output_type": "execute_result"
    }
   ],
   "source": [
    "from langchain_core.messages import HumanMessage, AIMessage\n",
    "\n",
    "chat_history = [HumanMessage(content=\"Qué es Bpay?\"), AIMessage(content=\"Es un sistema electrónico que te permite hacer transacciones financieras de forma virtual, como pagos, transferencias, lectura con QR, consulta de saldo, recargas en efectivo o desde otros bancos, retiros en corresponsales y cajeros, sin contar con el uso de Tarjetas de Crédito o Débito, y la sincronización con Bancolombia A la mano.\")]\n",
    "retriever_chain.invoke({\n",
    "    \"chat_history\": chat_history,\n",
    "    \"input\": \"cuáles son sus funciones?\"\n",
    "})"
   ]
  },
  {
   "cell_type": "code",
   "execution_count": 56,
   "id": "cff77286-d01c-4d15-acf6-5f5f2ac2299c",
   "metadata": {},
   "outputs": [],
   "source": [
    "prompt = ChatPromptTemplate.from_messages([\n",
    "    (\"system\", \"Responda las preguntas del usuario en español según el siguiente contexto:\\n\\n{context}\"),\n",
    "    MessagesPlaceholder(variable_name=\"chat_history\"),\n",
    "    (\"user\", \"{input}\"),\n",
    "])\n",
    "document_chain = create_stuff_documents_chain(llm, prompt)\n",
    "\n",
    "retrieval_chain = create_retrieval_chain(retriever_chain, document_chain)"
   ]
  },
  {
   "cell_type": "code",
   "execution_count": 57,
   "id": "e2db545f-a00a-4dc2-bca3-36793a643de6",
   "metadata": {},
   "outputs": [
    {
     "data": {
      "text/plain": [
       "{'chat_history': [HumanMessage(content='Qué es Bpay?'),\n",
       "  AIMessage(content='Es la billetera virtual de Bancolombia!')],\n",
       " 'input': '¿Cuáles son sus tarifas?',\n",
       " 'context': [Document(page_content='¿Cómo funciona la Billetera digital (BPay)?\\n\\n\\n\\n\\n\\n\\n\\n\\n\\n\\n\\n\\n\\n\\n\\n\\n\\n{}\\n\\n\\n\\n\\n\\n\\n\\n\\n\\nZ7_OHHGG4G0P0FKE06MQ68SML15L0\\n\\n\\n\\n\\n\\n\\n\\n\\n\\n\\n\\n\\n\\n\\n\\n\\n\\n\\n\\nPersonas\\n\\n\\n\\nNegocios\\n\\n\\n\\nCorporativos\\n\\n\\n\\nNegocios especializados \\n\\n\\n\\n\\n\\nNegocios en Colombia\\n\\n\\nBanca de Inversión\\n                Bancolombia\\n\\n\\n\\nFiduciaria Bancolombia\\n\\n\\n\\nLeasing Bancolombia\\n\\n\\n\\nRenting Colombia\\n\\n\\n\\nValores Bancolombia\\n\\n\\n\\nFactoring Bancolombia\\n\\n\\n\\nAsset Management\\n\\n\\n\\n\\n\\nSufi\\n\\n\\n\\n\\n\\n\\n\\n\\n\\nEntidades en el exterior\\n\\n\\nBancolombia Miami (USA)\\n\\n\\n\\nValores Banistmo\\n\\n\\n\\nSucursal Panamá\\n\\n\\n\\nBancolombia Panamá\\n\\n\\n\\nBancolombia Puerto\\n                Rico\\n\\n\\n\\nBanistmo\\n\\n\\n\\nBanco Agrícola\\n\\n\\n\\nBAM (Banco Agromercantil\\n                de\\n                Guatemala)\\n\\n\\n\\n\\n\\n\\n\\n\\n\\n\\n\\n\\n\\n\\nTu360\\n\\n\\n\\nBlog\\n\\n\\n\\n\\n\\n\\n\\nTransparencia\\n\\n\\nConsumidor\\n\\n\\n\\n\\n\\n\\n\\n\\n\\n\\n\\n\\n\\n\\n\\n\\n\\n\\n\\n\\nInicio\\n\\n\\n\\nNecesidades\\n\\n\\n\\n\\n\\nNecesidades\\n\\n\\n\\n                                                        Certificado Bancario\\n                                                          \\n\\n\\n\\n                                                            Soluciones de movilidad privada\\n                                                          \\n\\n\\n\\n                                                              Soluciones de vivienda \\n                                                          \\n\\n\\n\\n                                                              Soluciones de pago\\n                                                          \\n\\n\\n\\n                                                           Soluciones de movilidad pública\\n                                                          \\n\\n\\n\\n\\n\\nBanco para todos\\n\\n\\n\\n                                                            Para los niños                                                   \\n                                                          \\n\\n\\n\\n                                                            Para los jóvenes                                                \\n                                                          \\n\\n\\n\\n                                                            Para la familia \\n                                                          \\n\\n\\n\\n\\n\\n\\n\\n\\n\\n\\nColombianos en el exterior\\n\\n\\n\\nCliente Preferencial\\n\\n\\nBanca Privada\\n\\n\\nCliente Independiente\\n\\n\\n\\n\\n\\n\\n\\nOfertas y beneficios\\n\\n\\n\\nDisfruta opciones hechas para ti por ser nuestro cliente\\n\\n\\n\\n\\n\\n\\n\\nSolicitud de turno en sucursales\\n\\n\\n\\nAhorra tiempo, adelanta tu gestión desde donde estés\\n\\n\\n\\n\\n\\n\\n\\nTrámites Digitales\\n\\n\\n\\nEncuentra lo que quieres cuando quieras, aquí te ayudamos\\n\\n\\n\\n\\n\\n\\n\\n\\n\\n\\n\\n\\n\\n\\nProductos y Servicios\\n\\n\\n\\n\\n\\nProductos y Servicios\\n\\n\\nCuentas\\n\\n\\nTarjetas Débito\\n\\n\\nTarjetas de Crédito\\n\\n\\nCréditos\\n\\n\\n\\n\\n\\n\\n\\n\\n\\nSeguros y asistencias\\n\\n\\nInversiones\\n\\n\\nGiros\\n\\n\\nBancolombia A la Mano\\n\\n\\n\\n\\n\\n\\n\\n\\n\\nLeasing\\n\\n\\nPagos\\n\\n\\nCompra y venta de dólares\\n                                                    \\n\\n\\nVenta de usados\\n\\n\\nRenta de vehículos\\n\\n\\n\\n\\n\\n\\nCanales para tu servicio\\n\\n\\n\\n                                                        Sucursal Virtual Personas\\n                                                      \\n\\n\\n\\n                                                        Solicitar productos\\n                                                      \\n\\n\\n\\n                                                        Bancolombia App\\n                                                      \\n\\n\\n\\n                                                        Corresponsal Bancario\\n                                                      \\n\\n\\n\\n                                                        Cajero Multifuncional\\n                                                      \\n\\n\\n\\n\\n\\n\\n\\n\\n\\n\\n                                                        Sucursal telefónica\\n                                                      \\n\\n\\n\\n                                                        Multipagos PSE\\n                                                      \\n\\n\\n\\n                                                        Sucursal Física', metadata={'source': 'https://www.bancolombia.com/centro-de-ayuda/preguntas-frecuentes/como-funciona-la-billetera-digital-bpay#:~:text=Es%20un%20sistema%20electr%C3%B3nico%20que,D%C3%A9bito%2C%20y%20la%20sincronizaci%C3%B3n%20con', 'title': '¿Cómo funciona la Billetera digital (BPay)?', 'description': 'Con la Billetera digital Bpay puedes pagar, transferir y recargar efectivo de tu A la mano. Aquí te mostramos qué es y cómo funciona esta billetera', 'language': 'en'}),\n",
       "  Document(page_content='Z7_OHHGG4G0P0FKE06MQ68SML15L7\\n\\n\\n\\n\\n\\n\\n\\n\\n\\n\\n\\n\\n\\n\\n\\n\\n¿Cómo funciona la Billetera digital (BPay)?\\n\\n\\nFebrero 5, 2024\\n\\n\\n\\n\\n\\n\\n\\nLink copiado en porta papeles\\n\\n\\n\\n\\n\\n\\n\\n\\n\\n\\n\\n\\n\\nEs un sistema electrónico que te permite hacer transacciones financieras de forma virtual, como pagos, transferencias, lectura con QR, consulta de saldo, recargas en efectivo o desde otros bancos, retiros en corresponsales y cajeros, sin contar con el uso de Tarjetas de Crédito o Débito, y la\\xa0sincronización con Bancolombia A la mano.\\nEstas billeteras pueden vincularse a cuentas bancarias o a otras fuentes de fondos, así como a experiencias o aplicaciones de otros terceros. El nombre de la billetera puede variar como: PlazaMall Wallet, PuntosPay, MonetPay y MaaSPay.\\nDesactiva los terceros de tu cuenta sincronizada en la Billetera digital (BPay)\\nPuedes desactivar la cuenta que vinculaste en la plataforma de terceros, llamando a la\\xa0Sucursal Telefónica, y al cabo de 3 horas vincular la nueva cuenta que quieras enlazar.\\nTarifas del servicio BPay\\n\\n\\nRetiro en Corresponsal Bancario: $2.190.\\n\\n\\nConsulta de movimientos en Sucursal Telefónica con asesor: $4.590 + IVA.\\n\\n\\nConsultar movimientos en servicios virtuales: $4.590 + IVA.\\n\\n\\nConsultar saldo en audio respuesta: $2.290 + IVA.\\n\\n\\nConsultar tu saldo en Sucursal Telefónica con asesor: $4.590 + IVA.\\n\\n\\nConsultar saldo de servicios virtuales: $4.590 + IVA.\\n\\n\\nConsignación en cajeros: 10 gratis, a partir de la 11 tiene un costo de $5.490 + IVA.\\n\\n\\nConsignación en corresponsales: 40 gratis, a partir de la 41 el precio es de $7.690 + IVA.\\n\\n\\nConsignación en Sucursal Física, desde la primera $11.990 + IVA.\\n\\n\\nTen presente que las tarifas que cobre el tercero no son administradas por Bancolombia.\\nTopes de transacciones para depósitos de bajo monto\\n\\n\\nDiario: $2’700.000 salidas de dinero.\\n\\n\\nMensual: $8’927.726. Recarga de dinero.\\n\\n\\n\\n\\n\\n\\n\\n\\n \\n\\n\\nZ7_OHHGG4G0P0FKE06MQ68SML15D4\\n\\n\\n\\n\\n\\n\\n\\n\\n\\n\\n\\n\\n\\n\\n\\n\\n\\n\\nCalificacionPreguntasFaqs\\n\\n\\n\\n\\n\\n\\n\\n\\n\\n\\n\\n \\n\\n\\nZ7_OHHGG4G0P0FKE06MQ68SML15D1\\n\\n\\n\\n\\n\\n\\n\\n\\n\\n\\n\\n\\n\\n\\n\\n\\n\\n\\nsearch\\n\\n\\n\\n\\n\\n\\n\\n\\n\\nPreguntas relacionadas\\n\\n\\n\\n\\n\\n\\n\\n\\n\\n\\n\\n\\n\\n\\n\\n\\n\\n\\n\\n\\n\\n\\n\\n\\n\\n\\n\\n\\n\\n\\n\\n\\n\\n\\n\\n\\n\\n\\n\\n\\n\\n\\n\\n\\n\\n\\n\\n\\n\\n\\n\\n\\n\\n\\n \\n\\n\\n\\n\\nZ7_OHHGG4G0P0FKE06MQ68SML15D7\\n\\n\\n\\n\\n\\n\\n\\n\\n\\n\\n\\n\\n\\n\\n\\n\\n                  Contáctanos\\n                \\n\\nPara resolver inquietudes adicionales o recibir ayuda personalizada.\\n\\n\\n\\n\\n\\n\\n\\n\\n\\n\\n\\nLlámanos\\n\\n\\n\\n\\n\\n\\n\\n\\n\\n\\n\\n\\nTe llamamos\\n\\n\\n\\n\\n\\n\\n\\n\\n\\n\\n\\n\\nVísitanos\\n\\n\\n\\n\\n\\n\\n\\n\\n\\n\\n\\n\\nChat\\n\\n\\n\\n\\n\\n\\n\\n\\n\\n\\n\\n\\n \\n\\n\\nZ7_OHHGG4G0P0FKE06MQ68SML15T4\\n\\n\\n\\n\\n\\n\\n\\n\\n\\n\\n\\n\\n\\n\\n\\n\\n\\n\\n\\n\\n\\n\\n\\n \\n\\n\\nZ7_OHHGG4G0P0FKE06MQ68SML15T6\\n\\n\\n\\n\\n\\n\\n\\n\\n\\n\\n\\n\\n\\n\\n \\n \\n\\n\\n\\n\\n\\n\\n\\n Deferred Modules \\n\\n\\n\\n\\n${title}${badge}\\n\\n\\n\\n${loading}\\n\\n\\n\\n\\n\\n\\n\\n\\n Deferred Modules', metadata={'source': 'https://www.bancolombia.com/centro-de-ayuda/preguntas-frecuentes/como-funciona-la-billetera-digital-bpay#:~:text=Es%20un%20sistema%20electr%C3%B3nico%20que,D%C3%A9bito%2C%20y%20la%20sincronizaci%C3%B3n%20con', 'title': '¿Cómo funciona la Billetera digital (BPay)?', 'description': 'Con la Billetera digital Bpay puedes pagar, transferir y recargar efectivo de tu A la mano. Aquí te mostramos qué es y cómo funciona esta billetera', 'language': 'en'}),\n",
       "  Document(page_content='Sucursal Física\\n                                                      \\n\\n\\n\\n                                                        Cajero Automático\\n                                                      \\n\\n\\n\\n\\n\\n\\n\\nConoce otros canales\\n\\n\\n\\n\\n\\n\\n\\n\\n\\nEducación Financiera\\n\\n\\n\\n\\n\\n\\n\\n\\n\\n\\n\\n\\nTrámites digitales\\n\\n\\n\\n\\n\\nSucursal Virtual Personas\\n\\nSucursal Virtual Personas\\nSucursal Virtual Pymes\\nSucursal Virtual Empresas\\nPagos PSE\\nVer más\\n\\n\\nEntrar\\n\\n\\n\\n\\n\\n\\n\\n\\n\\n\\n\\n\\n\\n\\n\\n\\n\\n\\n\\n\\n\\n\\n\\n\\n\\n\\n\\n\\n\\n\\nSucursal Virtual Personas\\n\\nSucursal Virtual Personas\\nSucursal Virtual Pymes\\nSucursal Virtual Empresas\\nPagos PSE\\nVer más\\n\\n\\n\\nEntrar\\n\\n\\nTramites Digitales\\n\\n\\n\\n\\nPersonas\\n\\n\\n\\nNecesidades\\n\\n\\nCertificado Bancario\\n\\n\\n\\nSoluciones de movilidad privada\\n\\n\\n\\nSoluciones de vivienda\\n\\n\\n\\nSoluciones de pago\\n\\n\\n\\nSoluciones de movilidad pública\\n\\n\\n\\nPara los niños\\n\\n\\n\\nPara los jóvenes\\n\\n\\n\\nPara la familia\\n\\n\\n\\nColombianos en el exterior\\n\\n\\n\\nCliente Preferencial\\n\\n\\n\\nBanca Privada\\n\\n\\n\\nCliente Independiente\\n\\n\\nOfertas y beneficios \\n\\n\\n\\nSolicitud de turno en sucursales\\n\\n\\n\\nTu360\\n\\n\\n\\n\\n\\n\\n\\nProductos y Servicios\\n\\n\\nCuentas\\n\\n\\n\\nTarjetas Débito\\n\\n\\n\\nTarjetas de Crédito\\n\\n\\n\\nCréditos\\n\\n\\n\\n\\nSeguros y asistencias\\n\\n\\n\\nInversiones\\n\\n\\n\\nGiros\\n\\n\\nBancolombia A la Mano\\n\\n\\n\\nLeasing\\n\\n\\nPagos\\n\\n\\n\\nCompra y venta de dólares\\n\\n\\n\\nVenta de usados\\n\\n\\n\\nRenta de vehículos\\n\\n\\n\\nConoce nuestros canales\\n\\n\\n\\nSucursal Virtual Personas\\n\\n\\n\\nSolicitar productos\\n\\n\\n\\nBancolombia App\\n\\n\\n\\nCorresponsal Bancario\\n\\n\\n\\nSucursal Telefónica\\n\\n\\n\\nMultipagos PSE\\n\\n\\n\\nSucursal Física\\n\\n\\n\\nCajero Automático\\n\\n\\n\\nCajero Multifuncional\\n\\n\\n\\n\\n\\n\\n\\nEducación Financiera\\n\\n\\n\\n\\n\\n\\nNegocios\\n\\n\\n\\nInicio\\n\\n\\nActualízate\\n\\n\\nProductos Financieros\\n\\n\\nHerramientas\\n\\n\\nAliados\\n\\n\\nFormación\\n\\n\\nSocial Selling\\n\\n\\nIncoterms\\n\\n\\n\\n\\nSectores\\n\\n\\nAgroindustria\\n\\n\\nComercio\\n\\n\\n\\n\\nComercio Internacional\\n\\n\\n\\n\\n\\nCorporativos \\n\\n\\nCorporativos\\n\\n\\nTransacciones\\n\\n\\n\\n\\n\\nEmpieza tu negocio\\n\\n\\n\\nNecesidades PYMES\\n\\n\\nSoluciones de financiación\\n\\n\\n\\nPagar y recaudar\\n\\n\\n\\nInversión de liquidez\\n\\n\\n\\n\\n\\nCobertura de riesgos\\n\\n\\n\\nEstructuración de negocios\\n\\n\\n\\n\\n\\nAgroindustrias\\n\\n\\n\\nContratistas\\n\\n\\n\\nComercio\\n\\n\\n\\nColegios y universidades\\n\\n\\n\\nBeneficios para tu negocio y tus empleados\\n\\n\\n\\n\\n\\n\\n\\nNecesidades Empresas\\n\\n\\nSoluciones de financiación\\n\\n\\n\\nAdministración de liquidez\\n\\n\\n\\nGestión de tesorería\\n\\n\\n\\nCobertura de riesgos\\n\\n\\n\\nEstructuración de negocios\\n\\n\\n\\nBienestar para tus empleados\\n\\n\\n\\n\\n\\nExperiencia sectorial\\n\\n\\n\\n\\n\\n\\n\\nNecesidades Gobierno\\n\\n\\nSoluciones de financiación\\n\\n\\n\\nAdministración de liquidez\\n\\n\\n\\nGestión de tesorería\\n\\n\\n\\nCobertura de riesgos\\n\\n\\n\\nEstructuración de negocios\\n\\n\\n\\nBienestar para tus empleados\\n\\n\\n\\n\\n\\nExperiencia sectorial\\n\\n\\n\\n\\n\\n\\n\\nProductos y Servicios\\n\\n\\nCréditos\\n\\n\\n\\nTarjetas de Crédito\\n\\n\\n\\nInversiones\\n\\n\\n\\nCuentas de Depósito\\n\\n\\n\\nCash Management\\n\\n\\n\\nDerivados\\n\\n\\n\\nSeguros\\n\\n\\n\\nNegocios Fiduciarios\\n\\n\\n\\nBanca de inversión\\n\\n\\n\\nLeasing\\n\\n\\n\\nFactoring\\n\\n\\n\\nRenting\\n\\n\\n\\nOperaciones en Moneda Extranjera\\n\\n\\n\\nSer Corresponsal Bancario\\n\\n\\n\\nConoce nuestros canales y administra tus productos en\\n                                        forma ágil y segura\\n\\n\\n\\nSucursal Virtual Empresa\\n\\n\\n\\nLínea Empresas\\n\\n\\n\\nInmobiliaria y Vivienda\\n\\n\\n\\n\\n\\n\\n\\nCapital Inteligente\\n\\n\\n\\n\\n\\nNegocios Especializados\\n\\n\\n\\nBanca de Inversión Bancolombia\\n\\n\\n\\nFiduciaría Bancolombia\\n\\n\\n\\nLeasing Bancolombia\\n\\n\\n\\nRenting Colombia\\n\\n\\n\\nValores Bancolombia\\n\\n\\n\\nFactoring Bancolombia\\n\\n\\n\\nBancolombia Asset Management\\n\\n\\n\\n\\n\\nSufi\\n\\n\\n\\n\\n\\nValores Banistmo\\n\\n\\n\\nSucursal Panamá\\n\\n\\n\\nBancolombia Panamá\\n\\n\\n\\n\\nBancolombia Puerto Rico\\n\\n\\n\\nBanistmo\\n\\n\\n\\nBanco Agrícola\\n\\n\\n\\nBAM (Banco Agromercantil de Guatemala)\\n\\n\\n\\n\\n\\nTu360\\n\\n\\nBlog\\n\\n\\nTransparencia\\n\\n\\nConsumidor\\n\\n\\n\\n\\n\\n\\n\\n\\n\\n \\n\\n\\nZ7_OHHGG4G0P0FKE06MQ68SML15L2\\n\\n\\n\\n\\n\\n\\n\\n\\n\\n\\n\\n\\n\\n\\n\\n\\nCentro de ayuda\\n\\n\\n\\n\\n\\nPreguntas Frecuentes\\n\\n\\n\\n\\n\\nZ6_OHHGG4G0P0FKE06MQ68SML15P3\\n\\n\\n\\n\\n\\n\\n\\n \\n\\n\\nZ7_OHHGG4G0P0FKE06MQ68SML15L1\\n\\n\\n\\n\\n\\n\\n\\n\\n\\n\\n\\n\\n\\n \\n\\n\\n\\n\\nZ7_OHHGG4G0P0FKE06MQ68SML15L7\\n\\n\\n\\n\\n\\n\\n\\n\\n\\n\\n\\n\\n\\n\\n\\n\\n¿Cómo funciona la Billetera digital (BPay)?\\n\\n\\nFebrero 5, 2024\\n\\n\\n\\n\\n\\n\\n\\nLink copiado en porta papeles', metadata={'source': 'https://www.bancolombia.com/centro-de-ayuda/preguntas-frecuentes/como-funciona-la-billetera-digital-bpay#:~:text=Es%20un%20sistema%20electr%C3%B3nico%20que,D%C3%A9bito%2C%20y%20la%20sincronizaci%C3%B3n%20con', 'title': '¿Cómo funciona la Billetera digital (BPay)?', 'description': 'Con la Billetera digital Bpay puedes pagar, transferir y recargar efectivo de tu A la mano. Aquí te mostramos qué es y cómo funciona esta billetera', 'language': 'en'})],\n",
       " 'answer': \"Bancolombia's digital wallet, known as BPay, allows users to make payments digitally and securely. Here is a breakdown of the features and benefits of using BPay:\\n\\nFeatures:\\n\\n* Digital wallet: Stores your payment information for easy access and use.\\n* Security: Employs the latest security measures to protect your personal and financial information.\\n* Convenience: Allows you to make payments without having to carry cash or cards.\\n* Accessibility: Can be accessed from any device with internet connection.\\n* Multipurpose: Can be used for various types of payments, such as utility bills, insurance premiums, and online shopping.\\n\\nBenefits:\\n\\n* Time-saving: No need to carry cash or cards, saving you time and hassle.\\n* Easy to use: Simple and intuitive interface makes it easy to navigate and use.\\n* Secure: Offers an additional layer of security for your financial transactions.\\n* Flexibility: Can be used for a wide range of payments, including recurring ones.\\n* Cost-effective: May charge lower fees than traditional payment methods in some cases.\\n\\nTariffs:\\nBancolombia's BPay service charges the following fees:\\n\\n* Monthly maintenance fee: COP 1,500 (approximately USD 0.40) per account.\\n* Transaction fees: Vary depending on the type of transaction and the amount paid. For example, a transfer between BPay accounts is free, while a payment to a non-BPay account may incur a fee of COP 500 (approximately USD 0.14) per transaction.\\n* Foreign exchange fees: May apply when making payments in foreign currency. These fees vary depending on the currency and the amount of the payment.\\n\\nIt is important to note that these fees are subject to change, so it's always best to check with Bancolombia for the most up-to-date information.\"}"
      ]
     },
     "execution_count": 57,
     "metadata": {},
     "output_type": "execute_result"
    }
   ],
   "source": [
    "chat_history = [HumanMessage(content=\"Qué es Bpay?\"), AIMessage(content=\"Es la billetera virtual de Bancolombia!\")]\n",
    "retrieval_chain.invoke({\n",
    "    \"chat_history\": chat_history,\n",
    "    \"input\": \"¿Cuáles son sus tarifas?\"\n",
    "})"
   ]
  },
  {
   "cell_type": "code",
   "execution_count": null,
   "id": "a170de23-4c7e-401a-abdc-d916bc5b5742",
   "metadata": {},
   "outputs": [],
   "source": []
  }
 ],
 "metadata": {
  "kernelspec": {
   "display_name": "Python 3 (ipykernel)",
   "language": "python",
   "name": "python3"
  },
  "language_info": {
   "codemirror_mode": {
    "name": "ipython",
    "version": 3
   },
   "file_extension": ".py",
   "mimetype": "text/x-python",
   "name": "python",
   "nbconvert_exporter": "python",
   "pygments_lexer": "ipython3",
   "version": "3.10.9"
  }
 },
 "nbformat": 4,
 "nbformat_minor": 5
}
